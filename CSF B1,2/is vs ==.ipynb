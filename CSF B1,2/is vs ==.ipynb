{
 "cells": [
  {
   "cell_type": "markdown",
   "metadata": {},
   "source": [
    "https://stackoverflow.com/questions/3588776/how-is-eq-handled-in-python-and-in-what-order\n",
    "https://www.tutorialsteacher.com/python/magic-methods-in-python\n",
    "https://stackoverflow.com/questions/2988017/string-comparison-in-python-is-vs"
   ]
  },
  {
   "cell_type": "markdown",
   "metadata": {},
   "source": [
    "is is used for identity comparison, while == is used for equality comparison. Since what you care about is equality (the two strings should contain the same characters), in this case the is operator is simply wrong and you should be using == instead.\n",
    "\n",
    "The reason is works interactively is that (most) string literals are interned by default. From Wikipedia:\n",
    "\n",
    "Interned strings speed up string comparisons, which are sometimes a performance bottleneck in applications (such as compilers and dynamic programming language runtimes) that rely heavily on hash tables with string keys. Without interning, checking that two different strings are equal involves examining every character of both strings. This is slow for several reasons: it is inherently O(n) in the length of the strings; it typically requires reads from several regions of memory, which take time; and the reads fills up the processor cache, meaning there is less cache available for other needs. With interned strings, a simple object identity test suffices after the original intern operation; this is typically implemented as a pointer equality test, normally just a single machine instruction with no memory reference at all.\n",
    "\n",
    "So, when you have two string literals (words that are literally typed into your program source code, surrounded by quotation marks) in your program that have the same value, the Python compiler will automatically intern the strings, making them both stored at the same memory location. (Note that this doesn't always happen, and the rules for when this happens are quite convoluted, so please don't rely on this behavior in production code!)\n",
    "\n",
    "Since in your interactive session both strings are actually stored in the same memory location, they have the same identity, so the is operator works as expected. But if you construct a string by some other method (even if that string contains exactly the same characters), then the string may be equal, but it is not the same string -- that is, it has a different identity, because it is stored in a different place in memory."
   ]
  },
  {
   "cell_type": "code",
   "execution_count": 9,
   "metadata": {},
   "outputs": [
    {
     "name": "stdout",
     "output_type": "stream",
     "text": [
      "True\n",
      "True\n",
      "True\n",
      "False\n",
      "1896138313944\n",
      "1896138313944\n"
     ]
    }
   ],
   "source": [
    "a = \"Hello\"\n",
    "b = \"Hello\"\n",
    "print(a is b)\n",
    "print(a.__eq__(b))\n",
    "print(a==b)\n",
    "print(a==None)\n",
    "print(id(a))\n",
    "print(id(b))"
   ]
  },
  {
   "cell_type": "code",
   "execution_count": 8,
   "metadata": {},
   "outputs": [
    {
     "name": "stdout",
     "output_type": "stream",
     "text": [
      "a == b: True\n",
      "a is b: False\n",
      "a == c: False\n",
      "a is c: False\n",
      "a_list is b_list: True\n",
      "a_list: [1, 2, 3, 4]\n",
      "b_list: [1, 2, 3, 4]\n",
      "a_int is b_int: True\n",
      "a_int == b_int: True\n"
     ]
    }
   ],
   "source": [
    "#If you run this as a script,\n",
    "# a is b will actually probably be true, but if \n",
    "# you run it in a REPL, it won't be. That's because of\n",
    "# how the interpreter optimizes this Python file.\n",
    "a = \"This is a string\"\n",
    "b = \"This is a string\"\n",
    "\n",
    "print(\"a == b:\", a == b)\n",
    "print(\"a is b:\", a is b)\n",
    "\n",
    "# Neither a == c or a is c\n",
    "c = \"This is a different string\" \n",
    "\n",
    "print(\"a == c:\", a == c)\n",
    "print(\"a is c:\", a is c)\n",
    "\n",
    "# a_list and b_list point to the same object,\n",
    "# so the is condition is satisfied.\n",
    "a_list = [1, 2, 3]\n",
    "b_list = a_list\n",
    "\n",
    "print(\"a_list is b_list:\", a_list is b_list)\n",
    "\n",
    "# appending to one appends to both\n",
    "# because both point to the same object\n",
    "a_list.append(4)\n",
    "print(\"a_list:\", a_list)\n",
    "print(\"b_list:\", b_list)\n",
    "\n",
    "# Interned objects will point to the same\n",
    "# underlying object\n",
    "a_int = 4\n",
    "b_int = 4\n",
    "print(\"a_int is b_int:\", a_int is b_int)\n",
    "print(\"a_int == b_int:\", a_int == b_int)"
   ]
  },
  {
   "cell_type": "code",
   "execution_count": 10,
   "metadata": {},
   "outputs": [
    {
     "name": "stdout",
     "output_type": "stream",
     "text": [
      "'hello world' == 'world hello': False\n",
      "SillyString('hello world') == 'world hello': True\n",
      "'hello world' == SillyString('world hello'): True\n",
      "SillyString('hello world') == {list of 11 elements}: True\n"
     ]
    },
    {
     "ename": "TypeError",
     "evalue": "object of type 'NoneType' has no len()",
     "output_type": "error",
     "traceback": [
      "\u001b[1;31m---------------------------------------------------------------------------\u001b[0m",
      "\u001b[1;31mTypeError\u001b[0m                                 Traceback (most recent call last)",
      "\u001b[1;32m<ipython-input-10-33868abdd088>\u001b[0m in \u001b[0;36m<module>\u001b[1;34m\u001b[0m\n\u001b[0;32m     26\u001b[0m \u001b[1;31m# for whether either object is None\u001b[0m\u001b[1;33m\u001b[0m\u001b[1;33m\u001b[0m\u001b[1;33m\u001b[0m\u001b[0m\n\u001b[0;32m     27\u001b[0m \u001b[1;31m# and None has no len() atribute\u001b[0m\u001b[1;33m\u001b[0m\u001b[1;33m\u001b[0m\u001b[1;33m\u001b[0m\u001b[0m\n\u001b[1;32m---> 28\u001b[1;33m \u001b[0mprint\u001b[0m\u001b[1;33m(\u001b[0m\u001b[1;34m\"SillyString('hello_world') == None:\"\u001b[0m\u001b[1;33m,\u001b[0m \u001b[0mSillyString\u001b[0m\u001b[1;33m(\u001b[0m\u001b[1;34m'hello_world'\u001b[0m\u001b[1;33m)\u001b[0m \u001b[1;33m==\u001b[0m \u001b[1;32mNone\u001b[0m\u001b[1;33m)\u001b[0m\u001b[1;33m\u001b[0m\u001b[1;33m\u001b[0m\u001b[0m\n\u001b[0m\u001b[0;32m     29\u001b[0m \u001b[1;33m\u001b[0m\u001b[0m\n\u001b[0;32m     30\u001b[0m \u001b[1;31m# Comment the above out and use is instead\u001b[0m\u001b[1;33m\u001b[0m\u001b[1;33m\u001b[0m\u001b[1;33m\u001b[0m\u001b[0m\n",
      "\u001b[1;32m<ipython-input-10-33868abdd088>\u001b[0m in \u001b[0;36m__eq__\u001b[1;34m(self, other)\u001b[0m\n\u001b[0;32m      5\u001b[0m         \u001b[1;31m# print(f'comparing {self} to {other}')\u001b[0m\u001b[1;33m\u001b[0m\u001b[1;33m\u001b[0m\u001b[1;33m\u001b[0m\u001b[0m\n\u001b[0;32m      6\u001b[0m         \u001b[1;31m# Return True if self and other have the same length\u001b[0m\u001b[1;33m\u001b[0m\u001b[1;33m\u001b[0m\u001b[1;33m\u001b[0m\u001b[0m\n\u001b[1;32m----> 7\u001b[1;33m         \u001b[1;32mreturn\u001b[0m \u001b[0mlen\u001b[0m\u001b[1;33m(\u001b[0m\u001b[0mself\u001b[0m\u001b[1;33m)\u001b[0m \u001b[1;33m==\u001b[0m \u001b[0mlen\u001b[0m\u001b[1;33m(\u001b[0m\u001b[0mother\u001b[0m\u001b[1;33m)\u001b[0m\u001b[1;33m\u001b[0m\u001b[1;33m\u001b[0m\u001b[0m\n\u001b[0m\u001b[0;32m      8\u001b[0m \u001b[1;33m\u001b[0m\u001b[0m\n\u001b[0;32m      9\u001b[0m \u001b[1;31m# Normal strings compare by character\u001b[0m\u001b[1;33m\u001b[0m\u001b[1;33m\u001b[0m\u001b[1;33m\u001b[0m\u001b[0m\n",
      "\u001b[1;31mTypeError\u001b[0m: object of type 'NoneType' has no len()"
     ]
    }
   ],
   "source": [
    "class SillyString(str):\n",
    "    # This method gets called when using == on the object\n",
    "    def __eq__(self, other):\n",
    "        # Uncomment below if you want verbose output\n",
    "        # print(f'comparing {self} to {other}')\n",
    "        # Return True if self and other have the same length\n",
    "        return len(self) == len(other)\n",
    "\n",
    "# Normal strings compare by character\n",
    "print(\"'hello world' == 'world hello':\", 'hello world' == 'world hello')\n",
    "\n",
    "# But SillyStrings compare by length alone\n",
    "# by calling the __eq__() method\n",
    "print(\"SillyString('hello world') == 'world hello':\", SillyString('hello world') == 'world hello')\n",
    "\n",
    "# Remember that == calls the left-hand operand's __eq__() method \n",
    "# Unless the right-hand operand is a subclass of the left\n",
    "print(\"'hello world' == SillyString('world hello'):\", 'hello world' == SillyString('world hello'))\n",
    "\n",
    "# But the SillyString method isn't very well defined\n",
    "# So it only compares with length and does no type-checking\n",
    "print(\"SillyString('hello world') == {list of 11 elements}:\", \\\n",
    "        SillyString('hello world') == [0 for i in range(11)])\n",
    "\n",
    "# Comparing to None generates an error because we don't check\n",
    "# for whether either object is None\n",
    "# and None has no len() atribute\n",
    "print(\"SillyString('hello_world') == None:\", SillyString('hello_world') == None)\n",
    "\n",
    "# Comment the above out and use is instead\n",
    "print(\"SillyString('hello_world') is None:\", SillyString('hello_world') is None)\n",
    "\n"
   ]
  },
  {
   "cell_type": "code",
   "execution_count": 12,
   "metadata": {},
   "outputs": [
    {
     "name": "stdout",
     "output_type": "stream",
     "text": [
      "a == b: True\n",
      "a is b: False\n",
      "a == b: True\n",
      "a is b: True\n"
     ]
    }
   ],
   "source": [
    "from sys import intern\n",
    "a = str(\"This is a string\")\n",
    "b = str(\"This is a string\")\n",
    "print(\"a == b:\", a == b)\n",
    "print(\"a is b:\", a is b)\n",
    "# now they will point to same location\n",
    "a= intern(a)\n",
    "b= intern(b)\n",
    "print(\"a == b:\", a == b)\n",
    "print(\"a is b:\", a is b)"
   ]
  }
 ],
 "metadata": {
  "kernelspec": {
   "display_name": "Python 3.6 (tensorflow)",
   "language": "python",
   "name": "py36"
  },
  "language_info": {
   "codemirror_mode": {
    "name": "ipython",
    "version": 3
   },
   "file_extension": ".py",
   "mimetype": "text/x-python",
   "name": "python",
   "nbconvert_exporter": "python",
   "pygments_lexer": "ipython3",
   "version": "3.6.8"
  }
 },
 "nbformat": 4,
 "nbformat_minor": 2
}
