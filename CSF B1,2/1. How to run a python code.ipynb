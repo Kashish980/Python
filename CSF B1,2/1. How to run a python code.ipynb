{
 "cells": [
  {
   "cell_type": "markdown",
   "metadata": {},
   "source": [
    "Scripts vs Modules\n",
    "the main difference between a module and a script is that modules are meant to be imported, while scripts are made to be directly executed.\n",
    "**What’s the Python Interpreter?**\n",
    "Python is an excellent programming language that allows you to be productive in a wide variety of fields.\n",
    "\n",
    "Python is also a piece of software called an interpreter. The interpreter is the program you’ll need to run Python code and scripts. Technically, the interpreter is a layer of software that works between your program and your computer hardware to get your code running.\n",
    "Depending on the Python implementation you use, the interpreter can be:\n",
    "\n",
    "1. A program written in C, like CPython, which is the core implementation of the language\n",
    "2. A program written in Java, like Jython\n",
    "3. A program written in Python itself, like PyPy\n",
    "4. A program implemented in .NET, like IronPython\n",
    "\n",
    "Whatever form the interpreter takes, the code you write will always be run by this program. Therefore, the first condition to be able to run Python scripts is to have the interpreter correctly installed on your system.\n",
    "\n",
    "The interpreter is able to run Python code in two different ways:\n",
    "\n",
    "1. As a script or module\n",
    "2. As a piece of code typed into an interactive session\n",
    "\n",
    "**1. How to Run Python Code Interactively** <br>\n",
    "A widely used way to run Python code is through an interactive session. To start a Python interactive session, just open a command-line or terminal (A quick way to get access to it is by pressing the Win+R key combination, which will take you to the Run dialog. Once you’re there, type in cmd and press Enter.) and then type in python, or python3 depending on your Python installation, and then hit Enter.\n",
    "The standard prompt for the interactive mode is >>>, so as soon as you see these characters, you’ll know you are in.\n",
    "\n",
    "Now, you can write and run Python code as you wish, with the only drawback being that when you close the session, your code will be gone.\n",
    "\n",
    "When you work interactively, every expression and statement you type in is evaluated and executed immediately:\n",
    "An interactive session will allow you to test every piece of code you write, which makes it an awesome development tool and an excellent place to experiment with the language and test Python code on the fly.\n",
    "\n",
    "To exit interactive mode, you can use one of the following options:\n",
    "\n",
    "quit() or exit(), which are built-in functions\n",
    "The Ctrl+Z and Enter key combination on Windows, or just Ctrl+D on Unix-like systems"
   ]
  },
  {
   "cell_type": "markdown",
   "metadata": {},
   "source": [
    "**How Does the Interpreter Run Python Scripts?**\n",
    "When you try to run Python scripts, a multi-step process begins. In this process the interpreter will:\n",
    "\n",
    "1. Process the statements of your script in a sequential fashion\n",
    "2. Compile the source code to an intermediate format known as bytecode\n",
    "3. This bytecode is a translation of the code into a lower-level language that’s platform-independent. Its purpose is to optimize code execution. So, the next time the interpreter runs your code, it’ll bypass this compilation step.\n",
    "Strictly speaking, this code optimization is only for modules (imported files), not for executable scripts.\n",
    "4. Ship off the code for execution\n",
    "At this point, something known as a Python Virtual Machine (PVM) comes into action. The PVM is the runtime engine of Python. It is a cycle that iterates over the instructions of your bytecode to run them one by one.\n",
    "\n",
    "The PVM is not an isolated component of Python. It’s just part of the Python system you’ve installed on your machine. Technically, the PVM is the last step of what is called the Python interpreter.\n",
    "\n",
    "The whole process to run Python scripts is known as the Python Execution Model.\n",
    "\n",
    "**2. How to Run Python Scripts Using the Command-Line**\n",
    "A Python interactive session will allow you to write a lot of lines of code, but once you close the session, you lose everything you’ve written. That’s why the usual way of writing Python programs is by using plain text files. By convention, those files will use the .py extension. (On Windows systems the extension can also be .pyw.)\n",
    "\n",
    "Python code files can be created with any plain text editor.  <br>\n",
    "**Using the python Command** <br>\n",
    "To run Python scripts with the python command, you need to open a command-line and type in the word python, or python3 if you have both versions, followed by the path to your script, just like this:\n"
   ]
  },
  {
   "cell_type": "markdown",
   "metadata": {},
   "source": [
    "**Redirecting the Output**\n",
    "Sometimes it’s useful to save the output of a script for later analysis. Here’s how you can do that:\n",
    "\n",
    "$ python3 hello.py > output.txt\n",
    "This operation redirects the output of your script to output.txt, rather than to the standard system output (stdout). The process is commonly known as stream redirection and is available on both Windows and Unix-like systems.\n",
    "\n",
    "If output.txt doesn’t exist, then it’s automatically created. On the other hand, if the file already exists, then its contents will be replaced with the new output. <br>\n",
    "\n",
    "the output will be appended to the end of output.txt using  <br>\n",
    "$ python3 hello.py >> output.txt"
   ]
  },
  {
   "attachments": {
    "image.png": {
     "image/png": "[encoded data removed]"
    }
   },
   "cell_type": "markdown",
   "metadata": {},
   "source": [
    "**How to Run Python Scripts Interactively**\n",
    "\n",
    "You’ll have to note that this option works only once per session. After the first import, successive import executions do nothing, even if you modify the content of the module. This is because import operations are expensive and therefore run only once. Here’s an example:\n",
    "\n",
    "![image.png](attachment:image.png)"
   ]
  },
  {
   "attachments": {
    "image.png": {
     "image/png": "[encoded data removed]"
    }
   },
   "cell_type": "markdown",
   "metadata": {},
   "source": [
    "![image.png](attachment:image.png)"
   ]
  },
  {
   "cell_type": "markdown",
   "metadata": {},
   "source": [
    "1. The Python interpreter takes the code that you write and converts it to the language that the computer’s hardware understands. Is this statement True or False?\n",
    "2. What is the key difference between Python scripts and modules?    "
   ]
  },
  {
   "cell_type": "markdown",
   "metadata": {},
   "source": [
    "1. True\n",
    "2. The main difference between a module and a script is that modules are meant to be imported, while scripts are made to be directly executed."
   ]
  }
 ],
 "metadata": {
  "kernelspec": {
   "display_name": "Python 3.6 (tensorflow)",
   "language": "python",
   "name": "py36"
  },
  "language_info": {
   "codemirror_mode": {
    "name": "ipython",
    "version": 3
   },
   "file_extension": ".py",
   "mimetype": "text/x-python",
   "name": "python",
   "nbconvert_exporter": "python",
   "pygments_lexer": "ipython3",
   "version": "3.6.8"
  }
 },
 "nbformat": 4,
 "nbformat_minor": 2
}
