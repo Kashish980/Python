{
 "cells": [
  {
   "cell_type": "markdown",
   "metadata": {},
   "source": [
    "###   why files?\n",
    "   \n",
    "   \n",
    "   When you want to work with a file, the first thing to do is to open it. This is done by invoking the open() built-in function. open() has a single return: the file object.\n",
    "    \n",
    "    It’s important to remember that it’s your responsibility to close the file. In most cases, upon termination of an application or script, a file will be closed eventually. However, there is no guarantee when exactly that will happen."
   ]
  },
  {
   "cell_type": "code",
   "execution_count": null,
   "metadata": {},
   "outputs": [],
   "source": [
    "f= open(\"student.txt\")\n",
    "try:\n",
    "    #   processing\n",
    "except:\n",
    "    \n",
    "finally:\n",
    "    f.close()"
   ]
  },
  {
   "cell_type": "code",
   "execution_count": null,
   "metadata": {},
   "outputs": [],
   "source": [
    "# no need of finally block\n",
    "with open(\"student.txt\") as f:\n",
    "    #  data processing\n",
    "    \n",
    "# file is closed here"
   ]
  },
  {
   "cell_type": "markdown",
   "metadata": {},
   "source": [
    "### open()\n",
    "    We use open () function in Python to open a file in read or write mode. As explained above, open ( ) will return a file object\n",
    "    open(filename, mode). \n",
    "    \n",
    "    “ r “, for reading.\n",
    "    “ w “, for writing.\n",
    "     \"a\"   for appending.\n",
    "     \"w+\"  for write and read\n",
    "    “ r+ “, for both reading and writing\n",
    "    \n",
    "    If not passed, then Python will assume it to be “ r ” by default."
   ]
  },
  {
   "cell_type": "code",
   "execution_count": null,
   "metadata": {},
   "outputs": [],
   "source": [
    "# a file named \"student\", will be opened with the reading mode. \n",
    "file = open('C:/Users/djoshi/Desktop/files/student.txt') \n",
    "# This will print every line one by one in the file \n",
    "for each in file: \n",
    "    print(each) "
   ]
  },
  {
   "cell_type": "markdown",
   "metadata": {},
   "source": [
    "### Reading From a File\n",
    "    read() takes a number as a parameter and reads from the file based on that number of bytes. If no argument is passed, or None or -1 is passed, then the entire file is read.\n",
    "\n",
    "    readline() takes a number as a parameter and reads at most that number of characters from the line. This continues to the end of the line and then wraps back around. If no argument is passed, or None or -1 is passed, then the entire line (or rest of the line) is read.\n",
    "\n",
    "    readlines() reads the remaining lines from the file object and returns them as a list."
   ]
  },
  {
   "cell_type": "code",
   "execution_count": 3,
   "metadata": {},
   "outputs": [
    {
     "name": "stdout",
     "output_type": "stream",
     "text": [
      "It is\n"
     ]
    }
   ],
   "source": [
    "with open(\"C:/Users/djoshi/Desktop/files/student.txt\") as f:\n",
    "    data= f.read(5)\n",
    "    print(data)"
   ]
  },
  {
   "cell_type": "code",
   "execution_count": 17,
   "metadata": {},
   "outputs": [
    {
     "name": "stdout",
     "output_type": "stream",
     "text": [
      "It is an unwritten consensus that Python is one of the best starting programming languages to learn as a novice. It is extremely versatile, easy to read/analyze, and quite pleasant to the eye. The Python programming language is highly scalable and is widely considered as one of the best toolboxes to build tools and utilities that you may want to use for diverse reasons.\n",
      " <class 'str'>\n"
     ]
    }
   ],
   "source": [
    "# https://stackoverflow.com/questions/42971904/readline-with-for-loop-issue#:~:text=When%20the%20f%20iterator%20moves,readline()%20.\n",
    "with open(\"C:/Users/djoshi/Desktop/files/student.txt\") as f:\n",
    "    data= f.readline()\n",
    "    print(data, type(data))"
   ]
  },
  {
   "cell_type": "code",
   "execution_count": 18,
   "metadata": {},
   "outputs": [
    {
     "name": "stdout",
     "output_type": "stream",
     "text": [
      "It is an unwritten consensus that Python is one of the best starting programming languages to learn as a novice. It is extremely versatile, easy to read/analyze, and quite pleasant to the eye. The Python programming language is highly scalable and is widely considered as one of the best toolboxes to build tools and utilities that you may want to use for diverse reasons.\n",
      " <class 'str'>\n",
      "This article will briefly covers how Python handles one of the most important components of any operating system: its files and directories. Fortunately, Python has built-in functions to create and manipulate files, either flat files or text files. The io module is the default module for accessing files, therefore we will not need to import any external library for general IO operations.\n",
      " <class 'str'>\n",
      "dkrhfgdjnf <class 'str'>\n"
     ]
    }
   ],
   "source": [
    "with open(\"C:/Users/djoshi/Desktop/files/student.txt\") as f:\n",
    "    for i in f:\n",
    "        print(i, type(i))"
   ]
  },
  {
   "cell_type": "code",
   "execution_count": 19,
   "metadata": {},
   "outputs": [
    {
     "name": "stdout",
     "output_type": "stream",
     "text": [
      "['It is an unwritten consensus that Python is one of the best starting programming languages to learn as a novice. It is extremely versatile, easy to read/analyze, and quite pleasant to the eye. The Python programming language is highly scalable and is widely considered as one of the best toolboxes to build tools and utilities that you may want to use for diverse reasons.\\n', 'This article will briefly covers how Python handles one of the most important components of any operating system: its files and directories. Fortunately, Python has built-in functions to create and manipulate files, either flat files or text files. The io module is the default module for accessing files, therefore we will not need to import any external library for general IO operations.\\n', 'dkrhfgdjnf'] <class 'list'> 3\n"
     ]
    }
   ],
   "source": [
    "with open(\"C:/Users/djoshi/Desktop/files/student.txt\") as f:\n",
    "    data= f.readlines()\n",
    "    print(data, type(data), len(data))"
   ]
  },
  {
   "cell_type": "code",
   "execution_count": 30,
   "metadata": {},
   "outputs": [
    {
     "name": "stdout",
     "output_type": "stream",
     "text": [
      "['Ram\\t1\\t77\\n', 'Shyam\\t2\\t65\\n', 'Sita\\t3\\t88'] 3\n",
      "230\n"
     ]
    }
   ],
   "source": [
    "# readlines\n",
    "marks=0\n",
    "with open('C:/Users/djoshi/Desktop/files/marks.txt', 'r') as f:\n",
    "    student=f.readlines()[1:]\n",
    "    print(student, len(student))\n",
    "    for i in student:\n",
    "        data= i.rstrip('\\n').split('\\t')\n",
    "        marks+= int(data[2])\n",
    "    print(marks)"
   ]
  },
  {
   "cell_type": "code",
   "execution_count": 38,
   "metadata": {},
   "outputs": [
    {
     "name": "stdout",
     "output_type": "stream",
     "text": [
      "230\n"
     ]
    }
   ],
   "source": [
    "marks=0\n",
    "with open('C:/Users/djoshi/Desktop/files/marks.txt', 'r') as f:\n",
    "    next(f)\n",
    "    for i in f:\n",
    "        data= i.rstrip('\\n').split('\\t')\n",
    "        marks+= int(data[2])\n",
    "    print(marks)"
   ]
  },
  {
   "cell_type": "code",
   "execution_count": 26,
   "metadata": {},
   "outputs": [
    {
     "data": {
      "text/plain": [
       "'abc   '"
      ]
     },
     "execution_count": 26,
     "metadata": {},
     "output_type": "execute_result"
    }
   ],
   "source": [
    "\"   abc   \".lstrip('')"
   ]
  },
  {
   "cell_type": "code",
   "execution_count": null,
   "metadata": {},
   "outputs": [],
   "source": [
    "read()"
   ]
  },
  {
   "cell_type": "code",
   "execution_count": null,
   "metadata": {},
   "outputs": [],
   "source": []
  },
  {
   "cell_type": "code",
   "execution_count": null,
   "metadata": {},
   "outputs": [],
   "source": []
  },
  {
   "cell_type": "code",
   "execution_count": null,
   "metadata": {},
   "outputs": [],
   "source": [
    "# Example\n",
    "file.readlines??"
   ]
  },
  {
   "cell_type": "code",
   "execution_count": null,
   "metadata": {},
   "outputs": [],
   "source": [
    "# use readlines\n",
    "sum=0\n",
    "with open('C:/Users/djoshi/Desktop/files/marks.txt') as f:  \n",
    "    student= f.readlines()[1:]\n",
    "    print(student)\n",
    "    for i in range(len(student)):\n",
    "        new= student[i].rstrip('\\n').split('\\t')\n",
    "        sum= sum+ int(new[2])\n",
    "    print(sum/len(student))\n",
    "    print(round(sum/len(student),2))\n",
    "    print ('%.2f'%(sum/len(student))) "
   ]
  },
  {
   "cell_type": "code",
   "execution_count": null,
   "metadata": {},
   "outputs": [],
   "source": [
    "# using read and splitlines\n",
    "# readlines() function is considered to be much slower and more inefficient than the read() function,\n",
    "# without not many benefits. One good alternative to this is using a loop that will function much \n",
    "# smoother and faster:\n",
    "sum=0\n",
    "with open('C:/Users/djoshi/Desktop/files/marks.txt') as f:  \n",
    "    student= f.read()\n",
    "    print(student, type(student))\n",
    "    student= student.splitlines()[1:]\n",
    "    print(student, type(student))\n",
    "    for i in range(len(student)):\n",
    "        new= student[i].split('\\t')\n",
    "        sum= sum+ int(new[2])\n",
    "#         print(new, end='')\n",
    "    print(sum/len(student))"
   ]
  },
  {
   "cell_type": "code",
   "execution_count": null,
   "metadata": {},
   "outputs": [],
   "source": [
    "'''\n",
    "with open('filename') as fin:\n",
    "    next(fin) \n",
    "    for line in fin:\n",
    "        ... # do something\n",
    " '''\n",
    "# This is simple and easy because of the nature of fin, being a generator.\n",
    "'''\n",
    "itertools.islice(iterable, stop)\n",
    "itertools.islice(iterable, start, stop[, step])\n",
    "'''"
   ]
  },
  {
   "cell_type": "code",
   "execution_count": null,
   "metadata": {},
   "outputs": [],
   "source": [
    "# http://stupidpythonideas.blogspot.com/2013/06/readlines-considered-silly.html\n",
    "# https://stackoverflow.com/questions/17246260/python-readlines-usage-and-efficient-practice-for-reading\n",
    "# Note that it’s already possible to iterate on file objects using for line in file:... without \n",
    "# calling file.readlines().\n",
    "sum=0\n",
    "with open('C:/Users/djoshi/Desktop/files/marks.txt') as f:  \n",
    "    next(f)\n",
    "    for i in f:\n",
    "        print(i, type(i))\n",
    "        student= i.rstrip('\\n').split('\\t')\n",
    "        print(student, type(student))\n",
    "        sum= sum+ int(student[2])\n",
    "        \n",
    "    print(sum/len(student))"
   ]
  },
  {
   "cell_type": "markdown",
   "metadata": {},
   "source": [
    "### default mode is read\n",
    "\n",
    "    with open(\"C:/Users/djoshi/Desktop/files/student.txt\") as f:\n",
    "    or        \n",
    "    with open(\"C:/Users/djoshi/Desktop/files/student.txt\", 'r') as f:"
   ]
  }
 ],
 "metadata": {
  "kernelspec": {
   "display_name": "Python 3.6 (tensorflow)",
   "language": "python",
   "name": "py36"
  },
  "language_info": {
   "codemirror_mode": {
    "name": "ipython",
    "version": 3
   },
   "file_extension": ".py",
   "mimetype": "text/x-python",
   "name": "python",
   "nbconvert_exporter": "python",
   "pygments_lexer": "ipython3",
   "version": "3.6.8"
  }
 },
 "nbformat": 4,
 "nbformat_minor": 2
}
