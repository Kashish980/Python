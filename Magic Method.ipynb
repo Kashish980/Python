{
 "cells": [
  {
   "cell_type": "markdown",
   "metadata": {},
   "source": [
    "## Using Python __getitem__ and __setitem__\n",
    "## https://omkarpathak.in/2018/04/11/python-getitem-and-setitem/\n",
    "https://stackoverflow.com/questions/43627405/understanding-getitem-method"
   ]
  },
  {
   "cell_type": "code",
   "execution_count": 4,
   "metadata": {},
   "outputs": [
    {
     "name": "stdout",
     "output_type": "stream",
     "text": [
      "Hey you are accessing 0 element whose value is: 1\n",
      "[1, 0, 0, 0, 0, 0, 0, 0, 0, 0, 0, 0]\n"
     ]
    }
   ],
   "source": [
    "# creating our own data structure like list \n",
    "# __str__ is similar to toString in java >> print string representation of the object\n",
    "# __setitem__ and __getitem__ are getter and setter method which do not have to be called explictly\n",
    "class CustomList(object):\n",
    "        def __init__(self, elements=0):\n",
    "            self.my_custom_list = [0] * elements\n",
    "\n",
    "        def __setitem__(self, index, value):\n",
    "            self.my_custom_list[index] = value\n",
    "\n",
    "        def __getitem__(self, index):\n",
    "            return \"Hey you are accessing {} element whose value is: {}\".format(index, self.my_custom_list[index])\n",
    "\n",
    "        def __str__(self):\n",
    "            return str(self.my_custom_list)\n",
    "\n",
    "#     __init__ is called implictly   \n",
    "obj = CustomList(12)\n",
    "#     __setitem__ is called implictly\n",
    "obj[0] = 1  \n",
    "#     __getitem__ is called implictly\n",
    "print(obj[0])\n",
    "print(obj)"
   ]
  }
 ],
 "metadata": {
  "kernelspec": {
   "display_name": "Python 3.6 (tensorflow)",
   "language": "python",
   "name": "py36"
  },
  "language_info": {
   "codemirror_mode": {
    "name": "ipython",
    "version": 3
   },
   "file_extension": ".py",
   "mimetype": "text/x-python",
   "name": "python",
   "nbconvert_exporter": "python",
   "pygments_lexer": "ipython3",
   "version": "3.6.8"
  }
 },
 "nbformat": 4,
 "nbformat_minor": 2
}
